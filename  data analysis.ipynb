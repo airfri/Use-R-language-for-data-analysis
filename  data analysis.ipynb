{
 "cells": [
  {
   "cell_type": "code",
   "execution_count": 1,
   "metadata": {
    "scrolled": true
   },
   "outputs": [
    {
     "name": "stderr",
     "output_type": "stream",
     "text": [
      "Loading required package: testthat\n",
      "\n",
      "Loading required package: repr\n",
      "\n",
      "Loading required package: MASS\n",
      "\n",
      "Loading required package: gclus\n",
      "\n",
      "Loading required package: cluster\n",
      "\n",
      "Loading required package: GGally\n",
      "\n",
      "Loading required package: ggplot2\n",
      "\n",
      "Registered S3 method overwritten by 'GGally':\n",
      "  method from   \n",
      "  +.gg   ggplot2\n",
      "\n",
      "Loading required package: ggcorrplot\n",
      "\n",
      "Loading required package: tidyverse\n",
      "\n",
      "-- \u001b[1mAttaching packages\u001b[22m --------------------------------------- tidyverse 1.3.0 --\n",
      "\n",
      "\u001b[32m√\u001b[39m \u001b[34mtibble \u001b[39m 3.0.4     \u001b[32m√\u001b[39m \u001b[34mdplyr  \u001b[39m 1.0.2\n",
      "\u001b[32m√\u001b[39m \u001b[34mtidyr  \u001b[39m 1.1.2     \u001b[32m√\u001b[39m \u001b[34mstringr\u001b[39m 1.4.0\n",
      "\u001b[32m√\u001b[39m \u001b[34mreadr  \u001b[39m 1.4.0     \u001b[32m√\u001b[39m \u001b[34mforcats\u001b[39m 0.5.0\n",
      "\u001b[32m√\u001b[39m \u001b[34mpurrr  \u001b[39m 0.3.4     \n",
      "\n",
      "-- \u001b[1mConflicts\u001b[22m ------------------------------------------ tidyverse_conflicts() --\n",
      "\u001b[31mx\u001b[39m \u001b[34mdplyr\u001b[39m::\u001b[32mfilter()\u001b[39m  masks \u001b[34mstats\u001b[39m::filter()\n",
      "\u001b[31mx\u001b[39m \u001b[34mpurrr\u001b[39m::\u001b[32mis_null()\u001b[39m masks \u001b[34mtestthat\u001b[39m::is_null()\n",
      "\u001b[31mx\u001b[39m \u001b[34mdplyr\u001b[39m::\u001b[32mlag()\u001b[39m     masks \u001b[34mstats\u001b[39m::lag()\n",
      "\u001b[31mx\u001b[39m \u001b[34mdplyr\u001b[39m::\u001b[32mmatches()\u001b[39m masks \u001b[34mtidyr\u001b[39m::matches(), \u001b[34mtestthat\u001b[39m::matches()\n",
      "\u001b[31mx\u001b[39m \u001b[34mdplyr\u001b[39m::\u001b[32mselect()\u001b[39m  masks \u001b[34mMASS\u001b[39m::select()\n",
      "\n"
     ]
    }
   ],
   "source": [
    "# initial settings\n",
    "libary_path <- paste(getwd(), \"packages\",sep=\"/\")\n",
    "dir.create(libary_path,showWarnings = FALSE)\n",
    ".libPaths(libary_path)\n",
    "\n",
    "\n",
    "if(!require(testthat)){\n",
    "    install.packages(\"testthat\")\n",
    "    library(testthat)\n",
    "}\n",
    "if(!require(repr)){\n",
    "    install.packages(\"repr\")\n",
    "    library(repr)\n",
    "}\n",
    "if(!require(MASS)){\n",
    "    install.packages(\"MASS\")\n",
    "    library(MASS)\n",
    "}\n",
    "if(!require(gclus)){\n",
    "    install.packages(\"gclus\")\n",
    "    library(gclus)\n",
    "}\n",
    "if(!require(GGally)){\n",
    "    install.packages(\"GGally\")\n",
    "    library(GGally)\n",
    "}\n",
    "if(!require(ggcorrplot)){\n",
    "    install.packages(\"ggcorrplot\")\n",
    "    library(ggcorrplot)\n",
    "}\n",
    "if(!require(tidyverse)){\n",
    "    install.packages(\"tidyverse\")\n",
    "    library(tidyverse)\n",
    "}\n",
    "\n",
    "\n",
    "\n",
    "\n",
    "# Plot size deppening on your screen resolution to 4 x 3\n",
    "options(repr.plot.width=8, repr.plot.height=6)"
   ]
  },
  {
   "cell_type": "markdown",
   "metadata": {},
   "source": [
    "# Assignment 1 "
   ]
  },
  {
   "cell_type": "markdown",
   "metadata": {},
   "source": [
    "For this assignment, you have to analyse two different data sets. For each plot, add appropriate titles and labels, do not leave the default one. Your submission should run without errors on jupyterhub when you execute: `Kernel` -> `Restart & Run All`. For each data-set and task, assign the resulting plot or data frame to the specified variable. e.g. if it says `p_3 <- ... ` this means that the plot has to be assigned to variable `p_3`.\n"
   ]
  },
  {
   "cell_type": "markdown",
   "metadata": {},
   "source": [
    "## Dataset01 (3.5 points)"
   ]
  },
  {
   "cell_type": "markdown",
   "metadata": {},
   "source": [
    "The dataset `birthwt` is in the package `MASS`, and will be available when you load the package. Have a quick look at the meaning of the variables in the data set `birthwt`.We will use `smoke` and  `bwt`.\n",
    "1.\tFirst create a new facotr variable called `smoke` and suplly labels for the levels of the variable smoke (Note that 0 means `nonsmoker`, 1 means `smoker`.)\n",
    "2. Create a new data frame called `ds_a.df` with the factor `smoke` and the variable `bwt` (Hint the name should just be `bwt`)\n",
    "2.\tCreate a boxplot for the birthweights of the two groups: smokers and non-smokers. \n",
    "3.\tAlso provide a bar chart showing the number of smokers and non-smokers\n",
    "For both graphs, include a heading and appropriate axis labels. \n"
   ]
  },
  {
   "cell_type": "markdown",
   "metadata": {},
   "source": [
    "From the Help file:  \n",
    "Risk Factors Associated with Low Infant Birth Weight\n",
    "Description\n",
    "\n",
    "The birthwt data frame has 189 rows and 10 columns. The data were collected at Baystate Medical Center, Springfield, Mass during 1986. "
   ]
  },
  {
   "cell_type": "code",
   "execution_count": 2,
   "metadata": {
    "deletable": false,
    "nbgrader": {
     "checksum": "4f42416c10b2c578c7a45633ac898d27",
     "grade": false,
     "grade_id": "cell-d5fd916a1d8db3d8",
     "locked": false,
     "schema_version": 1,
     "solution": true
    }
   },
   "outputs": [
    {
     "name": "stdout",
     "output_type": "stream",
     "text": [
      "  [1] nonsmoker nonsmoker smoker    smoker    smoker    nonsmoker nonsmoker\n",
      "  [8] nonsmoker smoker    smoker    nonsmoker nonsmoker nonsmoker nonsmoker\n",
      " [15] smoker    smoker    nonsmoker smoker    nonsmoker smoker    nonsmoker\n",
      " [22] nonsmoker nonsmoker nonsmoker nonsmoker nonsmoker smoker    nonsmoker\n",
      " [29] smoker    nonsmoker nonsmoker smoker    smoker    nonsmoker nonsmoker\n",
      " [36] smoker    smoker    smoker    smoker    smoker    smoker    nonsmoker\n",
      " [43] nonsmoker nonsmoker smoker    smoker    nonsmoker nonsmoker nonsmoker\n",
      " [50] smoker    nonsmoker nonsmoker smoker    smoker    nonsmoker nonsmoker\n",
      " [57] smoker    nonsmoker nonsmoker nonsmoker nonsmoker nonsmoker nonsmoker\n",
      " [64] nonsmoker smoker    nonsmoker nonsmoker smoker    nonsmoker nonsmoker\n",
      " [71] smoker    smoker    smoker    nonsmoker smoker    nonsmoker nonsmoker\n",
      " [78] smoker    smoker    nonsmoker nonsmoker nonsmoker nonsmoker nonsmoker\n",
      " [85] nonsmoker smoker    nonsmoker nonsmoker nonsmoker nonsmoker nonsmoker\n",
      " [92] nonsmoker smoker    smoker    smoker    nonsmoker nonsmoker smoker   \n",
      " [99] smoker    nonsmoker nonsmoker smoker    nonsmoker nonsmoker nonsmoker\n",
      "[106] nonsmoker nonsmoker nonsmoker smoker    nonsmoker nonsmoker nonsmoker\n",
      "[113] smoker    nonsmoker smoker    nonsmoker nonsmoker nonsmoker nonsmoker\n",
      "[120] nonsmoker nonsmoker nonsmoker nonsmoker nonsmoker nonsmoker nonsmoker\n",
      "[127] nonsmoker smoker    nonsmoker nonsmoker smoker    nonsmoker smoker   \n",
      "[134] nonsmoker nonsmoker nonsmoker nonsmoker nonsmoker nonsmoker smoker   \n",
      "[141] smoker    smoker    nonsmoker nonsmoker smoker    smoker    nonsmoker\n",
      "[148] smoker    nonsmoker nonsmoker nonsmoker nonsmoker smoker    smoker   \n",
      "[155] nonsmoker smoker    smoker    smoker    nonsmoker smoker    smoker   \n",
      "[162] nonsmoker nonsmoker nonsmoker smoker    smoker    nonsmoker nonsmoker\n",
      "[169] smoker    nonsmoker smoker    smoker    smoker    nonsmoker nonsmoker\n",
      "[176] smoker    smoker    smoker    smoker    nonsmoker nonsmoker nonsmoker\n",
      "[183] smoker    smoker    smoker    nonsmoker smoker    nonsmoker smoker   \n",
      "Levels: nonsmoker smoker\n"
     ]
    }
   ],
   "source": [
    "## Dataset01 - Task 1 code here\n",
    "\n",
    "# your code here\n",
    "x=birthwt$smoke\n",
    "smoke<-factor(x,levels=c(0,1),labels=c('nonsmoker','smoker'))\n",
    "print(smoke)\n",
    "#fail() # No Answer - remove if you provide an answer\n",
    "\n"
   ]
  },
  {
   "cell_type": "code",
   "execution_count": 3,
   "metadata": {
    "deletable": false,
    "editable": false,
    "nbgrader": {
     "checksum": "45d6dbc5878e3be82b35952af692fea5",
     "grade": true,
     "grade_id": "cell-df1775c43264ee73",
     "locked": true,
     "points": 0.5,
     "schema_version": 1,
     "solution": false
    },
    "scrolled": true
   },
   "outputs": [
    {
     "name": "stdout",
     "output_type": "stream",
     "text": [
      "\u001b[32mTest passed\u001b[39m \n"
     ]
    }
   ],
   "source": [
    "# this is the first public test to check that you assigned the correct variable, the rest is hidden\n",
    "test_that(\"Creating a factor variable\", {\n",
    "      expect_is(smoke,\"factor\")\n",
    "})"
   ]
  },
  {
   "cell_type": "code",
   "execution_count": 4,
   "metadata": {
    "deletable": false,
    "nbgrader": {
     "checksum": "49caf71563e2937e75d3938958d87e5c",
     "grade": false,
     "grade_id": "cell-4111e34a41b1ef8e",
     "locked": false,
     "schema_version": 1,
     "solution": true
    },
    "scrolled": true
   },
   "outputs": [
    {
     "name": "stdout",
     "output_type": "stream",
     "text": [
      "        smoke  bwt\n",
      "85  nonsmoker 2523\n",
      "86  nonsmoker 2551\n",
      "87     smoker 2557\n",
      "88     smoker 2594\n",
      "89     smoker 2600\n",
      "91  nonsmoker 2622\n",
      "92  nonsmoker 2637\n",
      "93  nonsmoker 2637\n",
      "94     smoker 2663\n",
      "95     smoker 2665\n",
      "96  nonsmoker 2722\n",
      "97  nonsmoker 2733\n",
      "98  nonsmoker 2751\n",
      "99  nonsmoker 2750\n",
      "100    smoker 2769\n",
      "101    smoker 2769\n",
      "102 nonsmoker 2778\n",
      "103    smoker 2782\n",
      "104 nonsmoker 2807\n",
      "105    smoker 2821\n",
      "106 nonsmoker 2835\n",
      "107 nonsmoker 2835\n",
      "108 nonsmoker 2836\n",
      "109 nonsmoker 2863\n",
      "111 nonsmoker 2877\n",
      "112 nonsmoker 2877\n",
      "113    smoker 2906\n",
      "114 nonsmoker 2920\n",
      "115    smoker 2920\n",
      "116 nonsmoker 2920\n",
      "117 nonsmoker 2920\n",
      "118    smoker 2948\n",
      "119    smoker 2948\n",
      "120 nonsmoker 2977\n",
      "121 nonsmoker 2977\n",
      "123    smoker 2977\n",
      "124    smoker 2977\n",
      "125    smoker 2922\n",
      "126    smoker 3005\n",
      "127    smoker 3033\n",
      "128    smoker 3042\n",
      "129 nonsmoker 3062\n",
      "130 nonsmoker 3062\n",
      "131 nonsmoker 3062\n",
      "132    smoker 3062\n",
      "133    smoker 3062\n",
      "134 nonsmoker 3080\n",
      "135 nonsmoker 3090\n",
      "136 nonsmoker 3090\n",
      "137    smoker 3090\n",
      "138 nonsmoker 3100\n",
      "139 nonsmoker 3104\n",
      "140    smoker 3132\n",
      "141    smoker 3147\n",
      "142 nonsmoker 3175\n",
      "143 nonsmoker 3175\n",
      "144    smoker 3203\n",
      "145 nonsmoker 3203\n",
      "146 nonsmoker 3203\n",
      "147 nonsmoker 3225\n",
      "148 nonsmoker 3225\n",
      "149 nonsmoker 3232\n",
      "150 nonsmoker 3232\n",
      "151 nonsmoker 3234\n",
      "154    smoker 3260\n",
      "155 nonsmoker 3274\n",
      "156 nonsmoker 3274\n",
      "159    smoker 3303\n",
      "160 nonsmoker 3317\n",
      "161 nonsmoker 3317\n",
      "162    smoker 3317\n",
      "163    smoker 3321\n",
      "164    smoker 3331\n",
      "166 nonsmoker 3374\n",
      "167    smoker 3374\n",
      "168 nonsmoker 3402\n",
      "169 nonsmoker 3416\n",
      "170    smoker 3430\n",
      "172    smoker 3444\n",
      "173 nonsmoker 3459\n",
      "174 nonsmoker 3460\n",
      "175 nonsmoker 3473\n",
      "176 nonsmoker 3544\n",
      "177 nonsmoker 3487\n",
      "179 nonsmoker 3544\n",
      "180    smoker 3572\n",
      "181 nonsmoker 3572\n",
      "182 nonsmoker 3586\n",
      "183 nonsmoker 3600\n",
      "184 nonsmoker 3614\n",
      "185 nonsmoker 3614\n",
      "186 nonsmoker 3629\n",
      "187    smoker 3629\n",
      "188    smoker 3637\n",
      "189    smoker 3643\n",
      "190 nonsmoker 3651\n",
      "191 nonsmoker 3651\n",
      "192    smoker 3651\n",
      "193    smoker 3651\n",
      "195 nonsmoker 3699\n",
      "196 nonsmoker 3728\n",
      "197    smoker 3756\n",
      "199 nonsmoker 3770\n",
      "200 nonsmoker 3770\n",
      "201 nonsmoker 3770\n",
      "202 nonsmoker 3790\n",
      "203 nonsmoker 3799\n",
      "204 nonsmoker 3827\n",
      "205    smoker 3856\n",
      "206 nonsmoker 3860\n",
      "207 nonsmoker 3860\n",
      "208 nonsmoker 3884\n",
      "209    smoker 3884\n",
      "210 nonsmoker 3912\n",
      "211    smoker 3940\n",
      "212 nonsmoker 3941\n",
      "213 nonsmoker 3941\n",
      "214 nonsmoker 3969\n",
      "215 nonsmoker 3983\n",
      "216 nonsmoker 3997\n",
      "217 nonsmoker 3997\n",
      "218 nonsmoker 4054\n",
      "219 nonsmoker 4054\n",
      "220 nonsmoker 4111\n",
      "221 nonsmoker 4153\n",
      "222 nonsmoker 4167\n",
      "223 nonsmoker 4174\n",
      "224    smoker 4238\n",
      "225 nonsmoker 4593\n",
      "226 nonsmoker 4990\n",
      "4      smoker  709\n",
      "10  nonsmoker 1021\n",
      "11     smoker 1135\n",
      "13  nonsmoker 1330\n",
      "15  nonsmoker 1474\n",
      "16  nonsmoker 1588\n",
      "17  nonsmoker 1588\n",
      "18  nonsmoker 1701\n",
      "19  nonsmoker 1729\n",
      "20     smoker 1790\n",
      "22     smoker 1818\n",
      "23     smoker 1885\n",
      "24  nonsmoker 1893\n",
      "25  nonsmoker 1899\n",
      "26     smoker 1928\n",
      "27     smoker 1928\n",
      "28  nonsmoker 1928\n",
      "29     smoker 1936\n",
      "30  nonsmoker 1970\n",
      "31  nonsmoker 2055\n",
      "32  nonsmoker 2055\n",
      "33  nonsmoker 2082\n",
      "34     smoker 2084\n",
      "35     smoker 2084\n",
      "36  nonsmoker 2100\n",
      "37     smoker 2125\n",
      "40     smoker 2126\n",
      "42     smoker 2187\n",
      "43  nonsmoker 2187\n",
      "44     smoker 2211\n",
      "45     smoker 2225\n",
      "46  nonsmoker 2240\n",
      "47  nonsmoker 2240\n",
      "49  nonsmoker 2282\n",
      "50     smoker 2296\n",
      "51     smoker 2296\n",
      "52  nonsmoker 2301\n",
      "54  nonsmoker 2325\n",
      "56     smoker 2353\n",
      "57  nonsmoker 2353\n",
      "59     smoker 2367\n",
      "60     smoker 2381\n",
      "61     smoker 2381\n",
      "62  nonsmoker 2381\n",
      "63  nonsmoker 2410\n",
      "65     smoker 2410\n",
      "67     smoker 2410\n",
      "68     smoker 2414\n",
      "69     smoker 2424\n",
      "71  nonsmoker 2438\n",
      "75  nonsmoker 2442\n",
      "76  nonsmoker 2450\n",
      "77     smoker 2466\n",
      "78     smoker 2466\n",
      "79     smoker 2466\n",
      "81  nonsmoker 2495\n",
      "82     smoker 2495\n",
      "83  nonsmoker 2495\n",
      "84     smoker 2495\n"
     ]
    }
   ],
   "source": [
    "## Dataset01 - Task 2 code here\n",
    "\n",
    "bwt<-birthwt['bwt']\n",
    "# your code here\n",
    "ds_a.df<-data.frame(smoke,bwt)\n",
    "print(ds_a.df)\n",
    "#fail() # No Answer - remove if you provide an answer\n",
    "\n"
   ]
  },
  {
   "cell_type": "code",
   "execution_count": 5,
   "metadata": {
    "deletable": false,
    "editable": false,
    "nbgrader": {
     "checksum": "768bd7b332d2976fe8de125799adff28",
     "grade": true,
     "grade_id": "cell-4715ab6a62df044d",
     "locked": true,
     "points": 0.5,
     "schema_version": 1,
     "solution": false
    },
    "scrolled": true
   },
   "outputs": [
    {
     "name": "stdout",
     "output_type": "stream",
     "text": [
      "\u001b[32mTest passed\u001b[39m \n"
     ]
    }
   ],
   "source": [
    "# This is the first public test to check that you assigned the correct variable, the rest is hidden\n",
    "test_that(\"Creating a data frame\", {\n",
    "      expect_is(ds_a.df,\"data.frame\")\n",
    "})"
   ]
  },
  {
   "cell_type": "code",
   "execution_count": 6,
   "metadata": {
    "deletable": false,
    "nbgrader": {
     "checksum": "e9459c53df55c12a63d9b216e45feffe",
     "grade": false,
     "grade_id": "cell-077454365efad56d",
     "locked": false,
     "schema_version": 1,
     "solution": true
    },
    "scrolled": true
   },
   "outputs": [
    {
     "data": {
      "image/png": "[encoded data removed]",
      "text/plain": [
       "plot without title"
      ]
     },
     "metadata": {
      "image/png": {
       "height": 360,
       "width": 480
      }
     },
     "output_type": "display_data"
    }
   ],
   "source": [
    "## Dataset01 - Task 3 code here\n",
    "# p_3 <- .....\n",
    "# p_3\n",
    "# your code here\n",
    "p_3 <-ggplot(data=ds_a.df,aes(x=smoke,y=bwt))+\n",
    "  geom_boxplot()+\n",
    "  labs(title=\"the birthweights of the two groups: smokers and non-smokers.\",x=\"smoke\", y = \"birth_weight\")\n",
    "p_3\n",
    "#fail() # No Answer - remove if you provide an answer"
   ]
  },
  {
   "cell_type": "code",
   "execution_count": 7,
   "metadata": {
    "deletable": false,
    "editable": false,
    "nbgrader": {
     "checksum": "5088cf0f693c28de52d6010177b2d569",
     "grade": true,
     "grade_id": "cell-f9b632314d3a6044",
     "locked": true,
     "points": 0.5,
     "schema_version": 1,
     "solution": false
    }
   },
   "outputs": [
    {
     "name": "stdout",
     "output_type": "stream",
     "text": [
      "\u001b[32mTest passed\u001b[39m \n"
     ]
    }
   ],
   "source": [
    "# This is the first public test to check that you assigned the correct variable, the rest is hidden\n",
    "test_that(\"Boxplot\", {\n",
    "      expect_is(p_3,\"ggplot\")\n",
    "})"
   ]
  },
  {
   "cell_type": "code",
   "execution_count": null,
   "metadata": {
    "deletable": false,
    "editable": false,
    "nbgrader": {
     "checksum": "930bdb889a433948c6667e06989a90ac",
     "grade": true,
     "grade_id": "cell-f7c99e71ed4ffdda",
     "locked": true,
     "points": 0.5,
     "schema_version": 1,
     "solution": false
    }
   },
   "outputs": [],
   "source": []
  },
  {
   "cell_type": "code",
   "execution_count": null,
   "metadata": {
    "deletable": false,
    "editable": false,
    "nbgrader": {
     "checksum": "42ecd7905038e5073b7be068b1fa08bb",
     "grade": true,
     "grade_id": "cell-3d8ff42de7fd4a14",
     "locked": true,
     "points": 0.1,
     "schema_version": 1,
     "solution": false
    }
   },
   "outputs": [],
   "source": []
  },
  {
   "cell_type": "code",
   "execution_count": null,
   "metadata": {
    "deletable": false,
    "editable": false,
    "nbgrader": {
     "checksum": "881b6e4bd366b80fad478593e217930e",
     "grade": true,
     "grade_id": "cell-d4b29afa41141f16",
     "locked": true,
     "points": 0.1,
     "schema_version": 1,
     "solution": false
    }
   },
   "outputs": [],
   "source": []
  },
  {
   "cell_type": "code",
   "execution_count": null,
   "metadata": {
    "deletable": false,
    "editable": false,
    "nbgrader": {
     "checksum": "bb54533f564589a3d769df0d194b8132",
     "grade": true,
     "grade_id": "cell-13da84c619fa0d28",
     "locked": true,
     "points": 0.1,
     "schema_version": 1,
     "solution": false
    }
   },
   "outputs": [],
   "source": []
  },
  {
   "cell_type": "code",
   "execution_count": 8,
   "metadata": {
    "deletable": false,
    "nbgrader": {
     "checksum": "5a6af9967c3451b2343fec27bd112b90",
     "grade": false,
     "grade_id": "cell-e1afe98cfda305c0",
     "locked": false,
     "schema_version": 1,
     "solution": true
    }
   },
   "outputs": [
    {
     "data": {
      "image/png": "[encoded data removed]",
      "text/plain": [
       "plot without title"
      ]
     },
     "metadata": {
      "image/png": {
       "height": 360,
       "width": 480
      }
     },
     "output_type": "display_data"
    }
   ],
   "source": [
    "## Dataset01 - Task 4 code here\n",
    "# p_4 <- .....\n",
    "# p_4\n",
    "\n",
    "sum_smoker=sum(ds_a.df$smoke=='smoker')\n",
    "sum_nonsmoker=sum(ds_a.df$smoke=='nonsmoker')\n",
    "\n",
    "xx<-c('smoker','nonsmoker')\n",
    "yy<-c(sum_smoker,sum_nonsmoker)\n",
    "df<-data.frame(x=xx,y=yy)\n",
    "\n",
    "p_4<-ggplot(data = df, mapping = aes(x = xx, y = yy)) + geom_bar(stat = 'identity')+\n",
    "  labs(title=\"number of smokers and non-smokers\",x=\"smoke\", y = \"number of people\")\n",
    "p_4\n",
    "# your code here\n",
    "#fail() # No Answer - remove if you provide an answer"
   ]
  },
  {
   "cell_type": "code",
   "execution_count": 9,
   "metadata": {
    "deletable": false,
    "editable": false,
    "nbgrader": {
     "checksum": "e08463ead35638f7931e7aea12045fad",
     "grade": true,
     "grade_id": "cell-3f85f2443b90835b",
     "locked": true,
     "points": 0.5,
     "schema_version": 1,
     "solution": false
    }
   },
   "outputs": [
    {
     "name": "stdout",
     "output_type": "stream",
     "text": [
      "\u001b[32mTest passed\u001b[39m \n"
     ]
    }
   ],
   "source": [
    "# This is the first public test to check that you assigned the correct variable, the rest is hidden\n",
    "test_that(\"Bar plot\", {\n",
    "      expect_is(p_4,\"ggplot\")\n",
    "})"
   ]
  },
  {
   "cell_type": "code",
   "execution_count": null,
   "metadata": {
    "deletable": false,
    "editable": false,
    "nbgrader": {
     "checksum": "da486a36286cad78d28b00e0dcb89513",
     "grade": true,
     "grade_id": "cell-d3b4b704e8cb07f3",
     "locked": true,
     "points": 0.5,
     "schema_version": 1,
     "solution": false
    }
   },
   "outputs": [],
   "source": []
  },
  {
   "cell_type": "code",
   "execution_count": null,
   "metadata": {
    "deletable": false,
    "editable": false,
    "nbgrader": {
     "checksum": "07964915bdc527f75b881909c074cad9",
     "grade": true,
     "grade_id": "cell-fe9f61cd45c884d9",
     "locked": true,
     "points": 0.1,
     "schema_version": 1,
     "solution": false
    }
   },
   "outputs": [],
   "source": []
  },
  {
   "cell_type": "code",
   "execution_count": null,
   "metadata": {
    "deletable": false,
    "editable": false,
    "nbgrader": {
     "checksum": "9ad2f14f5bc4cdb874713c1b6975a134",
     "grade": true,
     "grade_id": "cell-aff96b4163cb4d4a",
     "locked": true,
     "points": 0.1,
     "schema_version": 1,
     "solution": false
    }
   },
   "outputs": [],
   "source": []
  },
  {
   "cell_type": "code",
   "execution_count": null,
   "metadata": {},
   "outputs": [],
   "source": []
  },
  {
   "cell_type": "markdown",
   "metadata": {},
   "source": [
    "## Dataset02 (6.5 points)"
   ]
  },
  {
   "cell_type": "markdown",
   "metadata": {},
   "source": [
    "Consider the data set bank in package gclus. In order to find information about this data set, look up the helpfile `?bank`\n",
    "You will see that it has a variable Status, and six dimension variables. The dataset must be loaded: with the command `data(bank)`\n",
    "1. Load the data and make the column `Status` into a factor with `0 = Genuine` and  `1 = Counterfeit`. (Note: modify the data frame)\n",
    "2. Create a boxplot for each dimension (`Length`, `Left`,`Right`,`Bottom`, `Top` and\t`Diagonal`). Based on the boxplots, choose two variables that you think likely to give the clearest differentiation between forged and genuine notes and put the graphs object named `p_var1` and `p_var2` in the designated cell.\n",
    "3. Create a scatter plot of the choosen dimension and colour them. Use the function `geom_segment` to add a seperating line between the coloured dots. Note: This is a new function, the goal of this excercise is that you make yourself familiar with how to use the help function.\n",
    "4. Using a grammar of graphics command, create a scatterplot matrix in which the points representing the forgeries and the genuine notes have different colours. Also had a title to your plot.   \n",
    "  \n",
    "5. Using a grammar of graphics command, create a scatterplot matrix for the combined sample of 200 notes, including the overall distribution for each variable provided along the diagonal, and correlations in the upper panel. Also had a title to your plot. \n",
    "\n",
    "6. Use ggcorrplot to create an appropriate correlation plot for the combined sample. Also had a title to your plot.\n",
    "\n"
   ]
  },
  {
   "cell_type": "markdown",
   "metadata": {},
   "source": [
    "From the Help file:  \n",
    "Swiss bank notes data\n",
    "Description\n",
    "\n",
    "Data from \"Multivariate Statistics A practical approach\", by Bernhard Flury and Hans Riedwyl, Chapman and Hall, 1988, Tables 1.1 and 1.2 pp. 5-8. Six measurements made on 100 genuine Swiss banknotes and 100 counterfeit ones."
   ]
  },
  {
   "cell_type": "code",
   "execution_count": 60,
   "metadata": {
    "deletable": false,
    "nbgrader": {
     "checksum": "c2a69ea5678dd646d9e651c07d822f15",
     "grade": false,
     "grade_id": "cell-5837da8f4d324086",
     "locked": false,
     "schema_version": 1,
     "solution": true
    },
    "scrolled": true
   },
   "outputs": [
    {
     "name": "stdout",
     "output_type": "stream",
     "text": [
      "    Length  Left Right Bottom  Top Diagonal      Status\n",
      "1    214.8 131.0 131.1    9.0  9.7    141.0     Genuine\n",
      "2    214.6 129.7 129.7    8.1  9.5    141.7     Genuine\n",
      "3    214.8 129.7 129.7    8.7  9.6    142.2     Genuine\n",
      "4    214.8 129.7 129.6    7.5 10.4    142.0     Genuine\n",
      "5    215.0 129.6 129.7   10.4  7.7    141.8     Genuine\n",
      "6    215.7 130.8 130.5    9.0 10.1    141.4     Genuine\n",
      "7    215.5 129.5 129.7    7.9  9.6    141.6     Genuine\n",
      "8    214.5 129.6 129.2    7.2 10.7    141.7     Genuine\n",
      "9    214.9 129.4 129.7    8.2 11.0    141.9     Genuine\n",
      "10   215.2 130.4 130.3    9.2 10.0    140.7     Genuine\n",
      "11   215.3 130.4 130.3    7.9 11.7    141.8     Genuine\n",
      "12   215.1 129.5 129.6    7.7 10.5    142.2     Genuine\n",
      "13   215.2 130.8 129.6    7.9 10.8    141.4     Genuine\n",
      "14   214.7 129.7 129.7    7.7 10.9    141.7     Genuine\n",
      "15   215.1 129.9 129.7    7.7 10.8    141.8     Genuine\n",
      "16   214.5 129.8 129.8    9.3  8.5    141.6     Genuine\n",
      "17   214.6 129.9 130.1    8.2  9.8    141.7     Genuine\n",
      "18   215.0 129.9 129.7    9.0  9.0    141.9     Genuine\n",
      "19   215.2 129.6 129.6    7.4 11.5    141.5     Genuine\n",
      "20   214.7 130.2 129.9    8.6 10.0    141.9     Genuine\n",
      "21   215.0 129.9 129.3    8.4 10.0    141.4     Genuine\n",
      "22   215.6 130.5 130.0    8.1 10.3    141.6     Genuine\n",
      "23   215.3 130.6 130.0    8.4 10.8    141.5     Genuine\n",
      "24   215.7 130.2 130.0    8.7 10.0    141.6     Genuine\n",
      "25   215.1 129.7 129.9    7.4 10.8    141.1     Genuine\n",
      "26   215.3 130.4 130.4    8.0 11.0    142.3     Genuine\n",
      "27   215.5 130.2 130.1    8.9  9.8    142.4     Genuine\n",
      "28   215.1 130.3 130.3    9.8  9.5    141.9     Genuine\n",
      "29   215.1 130.0 130.0    7.4 10.5    141.8     Genuine\n",
      "30   214.8 129.7 129.3    8.3  9.0    142.0     Genuine\n",
      "31   215.2 130.1 129.8    7.9 10.7    141.8     Genuine\n",
      "32   214.8 129.7 129.7    8.6  9.1    142.3     Genuine\n",
      "33   215.0 130.0 129.6    7.7 10.5    140.7     Genuine\n",
      "34   215.6 130.4 130.1    8.4 10.3    141.0     Genuine\n",
      "35   215.9 130.4 130.0    8.9 10.6    141.4     Genuine\n",
      "36   214.6 130.2 130.2    9.4  9.7    141.8     Genuine\n",
      "37   215.5 130.3 130.0    8.4  9.7    141.8     Genuine\n",
      "38   215.3 129.9 129.4    7.9 10.0    142.0     Genuine\n",
      "39   215.3 130.3 130.1    8.5  9.3    142.1     Genuine\n",
      "40   213.9 130.3 129.0    8.1  9.7    141.3     Genuine\n",
      "41   214.4 129.8 129.2    8.9  9.4    142.3     Genuine\n",
      "42   214.8 130.1 129.6    8.8  9.9    140.9     Genuine\n",
      "43   214.9 129.6 129.4    9.3  9.0    141.7     Genuine\n",
      "44   214.9 130.4 129.7    9.0  9.8    140.9     Genuine\n",
      "45   214.8 129.4 129.1    8.2 10.2    141.0     Genuine\n",
      "46   214.3 129.5 129.4    8.3 10.2    141.8     Genuine\n",
      "47   214.8 129.9 129.7    8.3 10.2    141.5     Genuine\n",
      "48   214.8 129.9 129.7    7.3 10.9    142.0     Genuine\n",
      "49   214.6 129.7 129.8    7.9 10.3    141.1     Genuine\n",
      "50   214.5 129.0 129.6    7.8  9.8    142.0     Genuine\n",
      "51   214.6 129.8 129.4    7.2 10.0    141.3     Genuine\n",
      "52   215.3 130.6 130.0    9.5  9.7    141.1     Genuine\n",
      "53   214.5 130.1 130.0    7.8 10.9    140.9     Genuine\n",
      "54   215.4 130.2 130.2    7.6 10.9    141.6     Genuine\n",
      "55   214.5 129.4 129.5    7.9 10.0    141.4     Genuine\n",
      "56   215.2 129.7 129.4    9.2  9.4    142.0     Genuine\n",
      "57   215.7 130.0 129.4    9.2 10.4    141.2     Genuine\n",
      "58   215.0 129.6 129.4    8.8  9.0    141.1     Genuine\n",
      "59   215.1 130.1 129.9    7.9 11.0    141.3     Genuine\n",
      "60   215.1 130.0 129.8    8.2 10.3    141.4     Genuine\n",
      "61   215.1 129.6 129.3    8.3  9.9    141.6     Genuine\n",
      "62   215.3 129.7 129.4    7.5 10.5    141.5     Genuine\n",
      "63   215.4 129.8 129.4    8.0 10.6    141.5     Genuine\n",
      "64   214.5 130.0 129.5    8.0 10.8    141.4     Genuine\n",
      "65   215.0 130.0 129.8    8.6 10.6    141.5     Genuine\n",
      "66   215.2 130.6 130.0    8.8 10.6    140.8     Genuine\n",
      "67   214.6 129.5 129.2    7.7 10.3    141.3     Genuine\n",
      "68   214.8 129.7 129.3    9.1  9.5    141.5     Genuine\n",
      "69   215.1 129.6 129.8    8.6  9.8    141.8     Genuine\n",
      "70   214.9 130.2 130.2    8.0 11.2    139.6     Genuine\n",
      "71   213.8 129.8 129.5    8.4 11.1    140.9     Genuine\n",
      "72   215.2 129.9 129.5    8.2 10.3    141.4     Genuine\n",
      "73   215.0 129.6 130.2    8.7 10.0    141.2     Genuine\n",
      "74   214.4 129.9 129.6    7.5 10.5    141.8     Genuine\n",
      "75   215.2 129.9 129.7    7.2 10.6    142.1     Genuine\n",
      "76   214.1 129.6 129.3    7.6 10.7    141.7     Genuine\n",
      "77   214.9 129.9 130.1    8.8 10.0    141.2     Genuine\n",
      "78   214.6 129.8 129.4    7.4 10.6    141.0     Genuine\n",
      "79   215.2 130.5 129.8    7.9 10.9    140.9     Genuine\n",
      "80   214.6 129.9 129.4    7.9 10.0    141.8     Genuine\n",
      "81   215.1 129.7 129.7    8.6 10.3    140.6     Genuine\n",
      "82   214.9 129.8 129.6    7.5 10.3    141.0     Genuine\n",
      "83   215.2 129.7 129.1    9.0  9.7    141.9     Genuine\n",
      "84   215.2 130.1 129.9    7.9 10.8    141.3     Genuine\n",
      "85   215.4 130.7 130.2    9.0 11.1    141.2     Genuine\n",
      "86   215.1 129.9 129.6    8.9 10.2    141.5     Genuine\n",
      "87   215.2 129.9 129.7    8.7  9.5    141.6     Genuine\n",
      "88   215.0 129.6 129.2    8.4 10.2    142.1     Genuine\n",
      "89   214.9 130.3 129.9    7.4 11.2    141.5     Genuine\n",
      "90   215.0 129.9 129.7    8.0 10.5    142.0     Genuine\n",
      "91   214.7 129.7 129.3    8.6  9.6    141.6     Genuine\n",
      "92   215.4 130.0 129.9    8.5  9.7    141.4     Genuine\n",
      "93   214.9 129.4 129.5    8.2  9.9    141.5     Genuine\n",
      "94   214.5 129.5 129.3    7.4 10.7    141.5     Genuine\n",
      "95   214.7 129.6 129.5    8.3 10.0    142.0     Genuine\n",
      "96   215.6 129.9 129.9    9.0  9.5    141.7     Genuine\n",
      "97   215.0 130.4 130.3    9.1 10.2    141.1     Genuine\n",
      "98   214.4 129.7 129.5    8.0 10.3    141.2     Genuine\n",
      "99   215.1 130.0 129.8    9.1 10.2    141.5     Genuine\n",
      "100  214.7 130.0 129.4    7.8 10.0    141.2     Genuine\n",
      "101  214.4 130.1 130.3    9.7 11.7    139.8 Counterfeit\n",
      "102  214.9 130.5 130.2   11.0 11.5    139.5 Counterfeit\n",
      "103  214.9 130.3 130.1    8.7 11.7    140.2 Counterfeit\n",
      "104  215.0 130.4 130.6    9.9 10.9    140.3 Counterfeit\n",
      "105  214.7 130.2 130.3   11.8 10.9    139.7 Counterfeit\n",
      "106  215.0 130.2 130.2   10.6 10.7    139.9 Counterfeit\n",
      "107  215.3 130.3 130.1    9.3 12.1    140.2 Counterfeit\n",
      "108  214.8 130.1 130.4    9.8 11.5    139.9 Counterfeit\n",
      "109  215.0 130.2 129.9   10.0 11.9    139.4 Counterfeit\n",
      "110  215.2 130.6 130.8   10.4 11.2    140.3 Counterfeit\n",
      "111  215.2 130.4 130.3    8.0 11.5    139.2 Counterfeit\n",
      "112  215.1 130.5 130.3   10.6 11.5    140.1 Counterfeit\n",
      "113  215.4 130.7 131.1    9.7 11.8    140.6 Counterfeit\n",
      "114  214.9 130.4 129.9   11.4 11.0    139.9 Counterfeit\n",
      "115  215.1 130.3 130.0   10.6 10.8    139.7 Counterfeit\n",
      "116  215.5 130.4 130.0    8.2 11.2    139.2 Counterfeit\n",
      "117  214.7 130.6 130.1   11.8 10.5    139.8 Counterfeit\n",
      "118  214.7 130.4 130.1   12.1 10.4    139.9 Counterfeit\n",
      "119  214.8 130.5 130.2   11.0 11.0    140.0 Counterfeit\n",
      "120  214.4 130.2 129.9   10.1 12.0    139.2 Counterfeit\n",
      "121  214.8 130.3 130.4   10.1 12.1    139.6 Counterfeit\n",
      "122  215.1 130.6 130.3   12.3 10.2    139.6 Counterfeit\n",
      "123  215.3 130.8 131.1   11.6 10.6    140.2 Counterfeit\n",
      "124  215.1 130.7 130.4   10.5 11.2    139.7 Counterfeit\n",
      "125  214.7 130.5 130.5    9.9 10.3    140.1 Counterfeit\n",
      "126  214.9 130.0 130.3   10.2 11.4    139.6 Counterfeit\n",
      "127  215.0 130.4 130.4    9.4 11.6    140.2 Counterfeit\n",
      "128  215.5 130.7 130.3   10.2 11.8    140.0 Counterfeit\n",
      "129  215.1 130.2 130.2   10.1 11.3    140.3 Counterfeit\n",
      "130  214.5 130.2 130.6    9.8 12.1    139.9 Counterfeit\n",
      "131  214.3 130.2 130.0   10.7 10.5    139.8 Counterfeit\n",
      "132  214.5 130.2 129.8   12.3 11.2    139.2 Counterfeit\n",
      "133  214.9 130.5 130.2   10.6 11.5    139.9 Counterfeit\n",
      "134  214.6 130.2 130.4   10.5 11.8    139.7 Counterfeit\n",
      "135  214.2 130.0 130.2   11.0 11.2    139.5 Counterfeit\n",
      "136  214.8 130.1 130.1   11.9 11.1    139.5 Counterfeit\n",
      "137  214.6 129.8 130.2   10.7 11.1    139.4 Counterfeit\n",
      "138  214.9 130.7 130.3    9.3 11.2    138.3 Counterfeit\n",
      "139  214.6 130.4 130.4   11.3 10.8    139.8 Counterfeit\n",
      "140  214.5 130.5 130.2   11.8 10.2    139.6 Counterfeit\n",
      "141  214.8 130.2 130.3   10.0 11.9    139.3 Counterfeit\n",
      "142  214.7 130.0 129.4   10.2 11.0    139.2 Counterfeit\n",
      "143  214.6 130.2 130.4   11.2 10.7    139.9 Counterfeit\n",
      "144  215.0 130.5 130.4   10.6 11.1    139.9 Counterfeit\n",
      "145  214.5 129.8 129.8   11.4 10.0    139.3 Counterfeit\n",
      "146  214.9 130.6 130.4   11.9 10.5    139.8 Counterfeit\n",
      "147  215.0 130.5 130.4   11.4 10.7    139.9 Counterfeit\n",
      "148  215.3 130.6 130.3    9.3 11.3    138.1 Counterfeit\n",
      "149  214.7 130.2 130.1   10.7 11.0    139.4 Counterfeit\n",
      "150  214.9 129.9 130.0    9.9 12.3    139.4 Counterfeit\n",
      "151  214.9 130.3 129.9   11.9 10.6    139.8 Counterfeit\n",
      "152  214.6 129.9 129.7   11.9 10.1    139.0 Counterfeit\n",
      "153  214.6 129.7 129.3   10.4 11.0    139.3 Counterfeit\n",
      "154  214.5 130.1 130.1   12.1 10.3    139.4 Counterfeit\n",
      "155  214.5 130.3 130.0   11.0 11.5    139.5 Counterfeit\n",
      "156  215.1 130.0 130.3   11.6 10.5    139.7 Counterfeit\n",
      "157  214.2 129.7 129.6   10.3 11.4    139.5 Counterfeit\n",
      "158  214.4 130.1 130.0   11.3 10.7    139.2 Counterfeit\n",
      "159  214.8 130.4 130.6   12.5 10.0    139.3 Counterfeit\n",
      "160  214.6 130.6 130.1    8.1 12.1    137.9 Counterfeit\n",
      "161  215.6 130.1 129.7    7.4 12.2    138.4 Counterfeit\n",
      "162  214.9 130.5 130.1    9.9 10.2    138.1 Counterfeit\n",
      "163  214.6 130.1 130.0   11.5 10.6    139.5 Counterfeit\n",
      "164  214.7 130.1 130.2   11.6 10.9    139.1 Counterfeit\n",
      "165  214.3 130.3 130.0   11.4 10.5    139.8 Counterfeit\n",
      "166  215.1 130.3 130.6   10.3 12.0    139.7 Counterfeit\n",
      "167  216.3 130.7 130.4   10.0 10.1    138.8 Counterfeit\n",
      "168  215.6 130.4 130.1    9.6 11.2    138.6 Counterfeit\n",
      "169  214.8 129.9 129.8    9.6 12.0    139.6 Counterfeit\n",
      "170  214.9 130.0 129.9   11.4 10.9    139.7 Counterfeit\n",
      "171  213.9 130.7 130.5    8.7 11.5    137.8 Counterfeit\n",
      "172  214.2 130.6 130.4   12.0 10.2    139.6 Counterfeit\n",
      "173  214.8 130.5 130.3   11.8 10.5    139.4 Counterfeit\n",
      "174  214.8 129.6 130.0   10.4 11.6    139.2 Counterfeit\n",
      "175  214.8 130.1 130.0   11.4 10.5    139.6 Counterfeit\n",
      "176  214.9 130.4 130.2   11.9 10.7    139.0 Counterfeit\n",
      "177  214.3 130.1 130.1   11.6 10.5    139.7 Counterfeit\n",
      "178  214.5 130.4 130.0    9.9 12.0    139.6 Counterfeit\n",
      "179  214.8 130.5 130.3   10.2 12.1    139.1 Counterfeit\n",
      "180  214.5 130.2 130.4    8.2 11.8    137.8 Counterfeit\n",
      "181  215.0 130.4 130.1   11.4 10.7    139.1 Counterfeit\n",
      "182  214.8 130.6 130.6    8.0 11.4    138.7 Counterfeit\n",
      "183  215.0 130.5 130.1   11.0 11.4    139.3 Counterfeit\n",
      "184  214.6 130.5 130.4   10.1 11.4    139.3 Counterfeit\n",
      "185  214.7 130.2 130.1   10.7 11.1    139.5 Counterfeit\n",
      "186  214.7 130.4 130.0   11.5 10.7    139.4 Counterfeit\n",
      "187  214.5 130.4 130.0    8.0 12.2    138.5 Counterfeit\n",
      "188  214.8 130.0 129.7   11.4 10.6    139.2 Counterfeit\n",
      "189  214.8 129.9 130.2    9.6 11.9    139.4 Counterfeit\n",
      "190  214.6 130.3 130.2   12.7  9.1    139.2 Counterfeit\n",
      "191  215.1 130.2 129.8   10.2 12.0    139.4 Counterfeit\n",
      "192  215.4 130.5 130.6    8.8 11.0    138.6 Counterfeit\n",
      "193  214.7 130.3 130.2   10.8 11.1    139.2 Counterfeit\n",
      "194  215.0 130.5 130.3    9.6 11.0    138.5 Counterfeit\n",
      "195  214.9 130.3 130.5   11.6 10.6    139.8 Counterfeit\n",
      "196  215.0 130.4 130.3    9.9 12.1    139.6 Counterfeit\n",
      "197  215.1 130.3 129.9   10.3 11.5    139.7 Counterfeit\n",
      "198  214.8 130.3 130.4   10.6 11.1    140.0 Counterfeit\n",
      "199  214.7 130.7 130.8   11.2 11.2    139.4 Counterfeit\n",
      "200  214.3 129.9 129.9   10.2 11.5    139.6 Counterfeit\n"
     ]
    }
   ],
   "source": [
    "## Dataset02 - Task 1 code here\n",
    "# your code here\n",
    "\n",
    "data(bank)\n",
    "#head(bank)\n",
    "\n",
    "S=bank$Status\n",
    "bank<-bank[,-1]\n",
    "\n",
    "bank$Status<-factor(S,levels=c(0,1),labels=c('Genuine','Counterfeit'))\n",
    "print(bank)\n",
    "\n",
    "#fail() # No Answer - remove if you provide an answer"
   ]
  },
  {
   "cell_type": "code",
   "execution_count": 61,
   "metadata": {
    "deletable": false,
    "editable": false,
    "nbgrader": {
     "checksum": "b8fbc3b8eff46a43312257f0c3a3092d",
     "grade": true,
     "grade_id": "cell-4e5d8eb59f02faca",
     "locked": true,
     "points": 0.5,
     "schema_version": 1,
     "solution": false
    }
   },
   "outputs": [
    {
     "name": "stdout",
     "output_type": "stream",
     "text": [
      "\u001b[32mTest passed\u001b[39m \n"
     ]
    }
   ],
   "source": [
    "# this is the first public test to check that you assigned the correct variable, the rest is hidden\n",
    "test_that(\"Creating a factor variable within a existing data frame\", {\n",
    "      expect_is(bank,\"data.frame\")\n",
    "})"
   ]
  },
  {
   "cell_type": "code",
   "execution_count": 63,
   "metadata": {
    "deletable": false,
    "nbgrader": {
     "checksum": "c10000c5995f2eca7e56564e521785d2",
     "grade": false,
     "grade_id": "cell-dfe323d9d50025e1",
     "locked": false,
     "schema_version": 1,
     "solution": true
    },
    "scrolled": true
   },
   "outputs": [
    {
     "data": {
      "image/png": "[encoded data removed]",
      "text/plain": [
       "plot without title"
      ]
     },
     "metadata": {
      "image/png": {
       "height": 360,
       "width": 480
      }
     },
     "output_type": "display_data"
    }
   ],
   "source": [
    "## Dataset02 - Task 2 goes here\n",
    "# p_var1 <- ..\n",
    "# p_var2 <- .. \n",
    "\n",
    "# your code here\n",
    "\n",
    "#install.packages(\"cowplot\")\n",
    "library(cowplot)\n",
    "a=ggplot(data=bank, aes(x=Status, y=Length)) + \n",
    "  geom_boxplot(color = \"yellow\")\n",
    "\n",
    "b=ggplot(data=bank, aes(x=Status, y=Left)) + \n",
    "  geom_boxplot(color=\"orange\")\n",
    "\n",
    "c=ggplot(data=bank, aes(x=Status, y=Right))+ \n",
    "  geom_boxplot(color=\"red\")\n",
    "\n",
    "d=ggplot(data=bank, aes(x=Status, y=Bottom)) + \n",
    "  geom_boxplot(color=\"blue\")\n",
    "\n",
    "e=ggplot(data=bank, aes(x=Status, y=Top)) + \n",
    "  geom_boxplot(color=\"green\")\n",
    "\n",
    "f=ggplot(data=bank, aes(x=Status, y=Diagonal)) + \n",
    "  geom_boxplot(color=\"pink\")\n",
    "\n",
    "plot_grid(a,b,c,d,e,f,scale=c(1),ncol = 2)\n",
    "\n",
    "#fail() # No Answer - remove if you provide an answer"
   ]
  },
  {
   "cell_type": "code",
   "execution_count": 64,
   "metadata": {},
   "outputs": [],
   "source": [
    "p_var1 <- d #Bottom\n",
    "p_var2 <- f #Diagonal"
   ]
  },
  {
   "cell_type": "code",
   "execution_count": 65,
   "metadata": {
    "deletable": false,
    "editable": false,
    "nbgrader": {
     "checksum": "30f1104f5e7187f013dc2d13f9ff68a9",
     "grade": true,
     "grade_id": "cell-61a2dfa96f869c65",
     "locked": true,
     "points": 1,
     "schema_version": 1,
     "solution": false
    }
   },
   "outputs": [
    {
     "name": "stdout",
     "output_type": "stream",
     "text": [
      "\u001b[32mTest passed\u001b[39m \n"
     ]
    }
   ],
   "source": [
    "# This is the first public test to check that you assigned the correct variable, the rest is hidden\n",
    "test_that(\"Boxplot\", {\n",
    "      expect_is(p_var1,\"ggplot\")\n",
    "      expect_is(p_var2,\"ggplot\")\n",
    "\n",
    "})\n"
   ]
  },
  {
   "cell_type": "code",
   "execution_count": 181,
   "metadata": {
    "deletable": false,
    "nbgrader": {
     "checksum": "ee297027f426d3746c2cf89c55349f26",
     "grade": false,
     "grade_id": "cell-742d59f745c333ef",
     "locked": false,
     "schema_version": 1,
     "solution": true
    },
    "scrolled": true
   },
   "outputs": [
    {
     "data": {
      "image/png": "[encoded data removed]",
      "text/plain": [
       "plot without title"
      ]
     },
     "metadata": {
      "image/png": {
       "height": 360,
       "width": 480
      }
     },
     "output_type": "display_data"
    }
   ],
   "source": [
    "## Dataset02 - Task 3 code here\n",
    "# p_3 <- .....\n",
    "# p_3\n",
    "# your code here\n",
    "\n",
    "library(tidyverse)\n",
    "data(bank)\n",
    "p_3<-ggplot(data=bank,aes(x=Bottom,y=Diagonal,color=Status))+geom_point()\n",
    "#\n",
    "p_3\n",
    "#fail() # No Answer - remove if you provide an answer"
   ]
  },
  {
   "cell_type": "code",
   "execution_count": null,
   "metadata": {
    "deletable": false,
    "editable": false,
    "nbgrader": {
     "checksum": "c7a4a6e5b8cced714e716cba0f8f52e0",
     "grade": true,
     "grade_id": "cell-d939d0a0a805905f",
     "locked": true,
     "points": 0.7,
     "schema_version": 1,
     "solution": false
    }
   },
   "outputs": [],
   "source": []
  },
  {
   "cell_type": "code",
   "execution_count": null,
   "metadata": {
    "deletable": false,
    "editable": false,
    "nbgrader": {
     "checksum": "20e8e91940d873e491bfdb21d1366d46",
     "grade": true,
     "grade_id": "cell-e9712e121412cec5",
     "locked": true,
     "points": 0.5,
     "schema_version": 1,
     "solution": false
    }
   },
   "outputs": [],
   "source": []
  },
  {
   "cell_type": "code",
   "execution_count": 166,
   "metadata": {
    "deletable": false,
    "nbgrader": {
     "checksum": "ce0f4c6c127560a62035f3a69ab97625",
     "grade": false,
     "grade_id": "cell-3aca30822cd8af20",
     "locked": false,
     "schema_version": 1,
     "solution": true
    }
   },
   "outputs": [
    {
     "data": {
      "image/png": "[encoded data removed]",
      "text/plain": [
       "plot without title"
      ]
     },
     "metadata": {
      "image/png": {
       "height": 360,
       "width": 480
      }
     },
     "output_type": "display_data"
    }
   ],
   "source": [
    "## Dataset02 - Task 4 code here\n",
    "# mat <- .....\n",
    "# mat\n",
    "# your code here\n",
    "#mat<-ggpairs(bank,columns=3:7,aes(color=Status))\n",
    "#mat\n",
    "library(tidyverse)\n",
    "data(bank)\n",
    "mat<-ggplot(data=bank,aes(x=Left,y=Diagonal,color=Status))+geom_point()+ggtitle(\"bank note scatter plot of Left and Diagonal\")#\n",
    "mat\n",
    "#fail() # No Answer - remove if you provide an answer"
   ]
  },
  {
   "cell_type": "code",
   "execution_count": 167,
   "metadata": {
    "deletable": false,
    "editable": false,
    "nbgrader": {
     "checksum": "65f72ffa42ee7134f25b8a5b46ca8420",
     "grade": true,
     "grade_id": "cell-46354f814c99076d",
     "locked": true,
     "points": 1,
     "schema_version": 1,
     "solution": false
    }
   },
   "outputs": [
    {
     "name": "stdout",
     "output_type": "stream",
     "text": [
      "\u001b[32mTest passed\u001b[39m \n"
     ]
    }
   ],
   "source": [
    "# This is the first public test to check that you assigned the correct variable, the rest is hidden\n",
    "test_that(\"Plot\", {\n",
    "      expect_is(mat,\"ggplot\")\n",
    "\n",
    "})\n"
   ]
  },
  {
   "cell_type": "code",
   "execution_count": null,
   "metadata": {
    "deletable": false,
    "editable": false,
    "nbgrader": {
     "checksum": "b963cf67bc5b5e86e18bb21c1a1b7562",
     "grade": true,
     "grade_id": "cell-10d68672a717fe3b",
     "locked": true,
     "points": 0.1,
     "schema_version": 1,
     "solution": false
    }
   },
   "outputs": [],
   "source": []
  },
  {
   "cell_type": "code",
   "execution_count": 185,
   "metadata": {
    "deletable": false,
    "nbgrader": {
     "checksum": "b4beaffef60bb1aac7888b38b5ec73c6",
     "grade": false,
     "grade_id": "cell-272848103ff13e88",
     "locked": false,
     "schema_version": 1,
     "solution": true
    },
    "scrolled": true
   },
   "outputs": [
    {
     "data": {
      "image/png": "[encoded data removed]",
      "text/plain": [
       "plot without title"
      ]
     },
     "metadata": {
      "image/png": {
       "height": 360,
       "width": 480
      }
     },
     "output_type": "display_data"
    }
   ],
   "source": [
    "## Dataset02 - Task 5 code here\n",
    "\n",
    "# your code here\n",
    "library(car)\n",
    "mat_all=spm(~Length+Left+Right+Bottom+Top+Diagonal |\n",
    "    Status, data = bank)\n",
    "\n",
    "#fail() # No Answer - remove if you provide an answer"
   ]
  },
  {
   "cell_type": "code",
   "execution_count": 183,
   "metadata": {
    "deletable": false,
    "editable": false,
    "nbgrader": {
     "checksum": "510d540845d301700cf5f8bc7e37df46",
     "grade": true,
     "grade_id": "cell-ad26383f1913bc34",
     "locked": true,
     "points": 0.5,
     "schema_version": 1,
     "solution": false
    }
   },
   "outputs": [
    {
     "name": "stdout",
     "output_type": "stream",
     "text": [
      "\u001b[32mTest passed\u001b[39m \n"
     ]
    }
   ],
   "source": [
    "# This is the first public test to check that you assigned the correct variable, the rest is hidden\n",
    "test_that(\"Plot\", {\n",
    "      expect_is(mat_all,\"ggplot\")\n",
    "\n",
    "})\n"
   ]
  },
  {
   "cell_type": "code",
   "execution_count": null,
   "metadata": {
    "deletable": false,
    "editable": false,
    "nbgrader": {
     "checksum": "c5e4921621b60413d92a6fde7f678888",
     "grade": true,
     "grade_id": "cell-712c5730698ba210",
     "locked": true,
     "points": 0.1,
     "schema_version": 1,
     "solution": false
    }
   },
   "outputs": [],
   "source": []
  },
  {
   "cell_type": "code",
   "execution_count": 131,
   "metadata": {
    "deletable": false,
    "nbgrader": {
     "checksum": "ef695c054357e7b03457349b21cfc96b",
     "grade": false,
     "grade_id": "cell-5a5fd86c81b98d10",
     "locked": false,
     "schema_version": 1,
     "solution": true
    }
   },
   "outputs": [
    {
     "data": {
      "text/html": [
       "<table>\n",
       "<caption>A matrix: 6 × 6 of type dbl</caption>\n",
       "<thead>\n",
       "\t<tr><th></th><th scope=col>Length</th><th scope=col>Left</th><th scope=col>Right</th><th scope=col>Bottom</th><th scope=col>Top</th><th scope=col>Diagonal</th></tr>\n",
       "</thead>\n",
       "<tbody>\n",
       "\t<tr><th scope=row>Status</th><td>-0.2</td><td>0.5</td><td>0.6</td><td> 0.8</td><td> 0.6</td><td>-0.9</td></tr>\n",
       "\t<tr><th scope=row>Length</th><td> 1.0</td><td>0.2</td><td>0.2</td><td>-0.2</td><td>-0.1</td><td> 0.2</td></tr>\n",
       "\t<tr><th scope=row>Left</th><td> 0.2</td><td>1.0</td><td>0.7</td><td> 0.4</td><td> 0.4</td><td>-0.5</td></tr>\n",
       "\t<tr><th scope=row>Right</th><td> 0.2</td><td>0.7</td><td>1.0</td><td> 0.5</td><td> 0.4</td><td>-0.5</td></tr>\n",
       "\t<tr><th scope=row>Bottom</th><td>-0.2</td><td>0.4</td><td>0.5</td><td> 1.0</td><td> 0.1</td><td>-0.6</td></tr>\n",
       "\t<tr><th scope=row>Top</th><td>-0.1</td><td>0.4</td><td>0.4</td><td> 0.1</td><td> 1.0</td><td>-0.6</td></tr>\n",
       "</tbody>\n",
       "</table>\n"
      ],
      "text/latex": [
       "A matrix: 6 × 6 of type dbl\n",
       "\\begin{tabular}{r|llllll}\n",
       "  & Length & Left & Right & Bottom & Top & Diagonal\\\\\n",
       "\\hline\n",
       "\tStatus & -0.2 & 0.5 & 0.6 &  0.8 &  0.6 & -0.9\\\\\n",
       "\tLength &  1.0 & 0.2 & 0.2 & -0.2 & -0.1 &  0.2\\\\\n",
       "\tLeft &  0.2 & 1.0 & 0.7 &  0.4 &  0.4 & -0.5\\\\\n",
       "\tRight &  0.2 & 0.7 & 1.0 &  0.5 &  0.4 & -0.5\\\\\n",
       "\tBottom & -0.2 & 0.4 & 0.5 &  1.0 &  0.1 & -0.6\\\\\n",
       "\tTop & -0.1 & 0.4 & 0.4 &  0.1 &  1.0 & -0.6\\\\\n",
       "\\end{tabular}\n"
      ],
      "text/markdown": [
       "\n",
       "A matrix: 6 × 6 of type dbl\n",
       "\n",
       "| <!--/--> | Length | Left | Right | Bottom | Top | Diagonal |\n",
       "|---|---|---|---|---|---|---|\n",
       "| Status | -0.2 | 0.5 | 0.6 |  0.8 |  0.6 | -0.9 |\n",
       "| Length |  1.0 | 0.2 | 0.2 | -0.2 | -0.1 |  0.2 |\n",
       "| Left |  0.2 | 1.0 | 0.7 |  0.4 |  0.4 | -0.5 |\n",
       "| Right |  0.2 | 0.7 | 1.0 |  0.5 |  0.4 | -0.5 |\n",
       "| Bottom | -0.2 | 0.4 | 0.5 |  1.0 |  0.1 | -0.6 |\n",
       "| Top | -0.1 | 0.4 | 0.4 |  0.1 |  1.0 | -0.6 |\n",
       "\n"
      ],
      "text/plain": [
       "       Length Left Right Bottom Top  Diagonal\n",
       "Status -0.2   0.5  0.6    0.8    0.6 -0.9    \n",
       "Length  1.0   0.2  0.2   -0.2   -0.1  0.2    \n",
       "Left    0.2   1.0  0.7    0.4    0.4 -0.5    \n",
       "Right   0.2   0.7  1.0    0.5    0.4 -0.5    \n",
       "Bottom -0.2   0.4  0.5    1.0    0.1 -0.6    \n",
       "Top    -0.1   0.4  0.4    0.1    1.0 -0.6    "
      ]
     },
     "metadata": {},
     "output_type": "display_data"
    },
    {
     "data": {
      "text/html": [
       "<table>\n",
       "<caption>A matrix: 6 × 6 of type dbl</caption>\n",
       "<thead>\n",
       "\t<tr><th></th><th scope=col>Length</th><th scope=col>Left</th><th scope=col>Right</th><th scope=col>Bottom</th><th scope=col>Top</th><th scope=col>Diagonal</th></tr>\n",
       "</thead>\n",
       "<tbody>\n",
       "\t<tr><th scope=row>Status</th><td>0.0058220857</td><td>8.495681e-14</td><td>6.841592e-20</td><td>7.776887e-41</td><td>3.849019e-21</td><td>5.347603e-73</td></tr>\n",
       "\t<tr><th scope=row>Length</th><td>0.0000000000</td><td>9.832847e-04</td><td>3.193376e-02</td><td>7.105069e-03</td><td>3.883618e-01</td><td>5.834537e-03</td></tr>\n",
       "\t<tr><th scope=row>Left</th><td>0.0009832847</td><td>0.000000e+00</td><td>2.062976e-36</td><td>1.127469e-09</td><td>1.345345e-07</td><td>3.090739e-14</td></tr>\n",
       "\t<tr><th scope=row>Right</th><td>0.0319337627</td><td>2.062976e-36</td><td>0.000000e+00</td><td>2.708416e-13</td><td>4.128055e-09</td><td>4.947235e-15</td></tr>\n",
       "\t<tr><th scope=row>Bottom</th><td>0.0071050689</td><td>1.127469e-09</td><td>2.708416e-13</td><td>0.000000e+00</td><td>4.510756e-02</td><td>6.855923e-23</td></tr>\n",
       "\t<tr><th scope=row>Top</th><td>0.3883617575</td><td>1.345345e-07</td><td>4.128055e-09</td><td>4.510756e-02</td><td>0.000000e+00</td><td>1.829117e-20</td></tr>\n",
       "</tbody>\n",
       "</table>\n"
      ],
      "text/latex": [
       "A matrix: 6 × 6 of type dbl\n",
       "\\begin{tabular}{r|llllll}\n",
       "  & Length & Left & Right & Bottom & Top & Diagonal\\\\\n",
       "\\hline\n",
       "\tStatus & 0.0058220857 & 8.495681e-14 & 6.841592e-20 & 7.776887e-41 & 3.849019e-21 & 5.347603e-73\\\\\n",
       "\tLength & 0.0000000000 & 9.832847e-04 & 3.193376e-02 & 7.105069e-03 & 3.883618e-01 & 5.834537e-03\\\\\n",
       "\tLeft & 0.0009832847 & 0.000000e+00 & 2.062976e-36 & 1.127469e-09 & 1.345345e-07 & 3.090739e-14\\\\\n",
       "\tRight & 0.0319337627 & 2.062976e-36 & 0.000000e+00 & 2.708416e-13 & 4.128055e-09 & 4.947235e-15\\\\\n",
       "\tBottom & 0.0071050689 & 1.127469e-09 & 2.708416e-13 & 0.000000e+00 & 4.510756e-02 & 6.855923e-23\\\\\n",
       "\tTop & 0.3883617575 & 1.345345e-07 & 4.128055e-09 & 4.510756e-02 & 0.000000e+00 & 1.829117e-20\\\\\n",
       "\\end{tabular}\n"
      ],
      "text/markdown": [
       "\n",
       "A matrix: 6 × 6 of type dbl\n",
       "\n",
       "| <!--/--> | Length | Left | Right | Bottom | Top | Diagonal |\n",
       "|---|---|---|---|---|---|---|\n",
       "| Status | 0.0058220857 | 8.495681e-14 | 6.841592e-20 | 7.776887e-41 | 3.849019e-21 | 5.347603e-73 |\n",
       "| Length | 0.0000000000 | 9.832847e-04 | 3.193376e-02 | 7.105069e-03 | 3.883618e-01 | 5.834537e-03 |\n",
       "| Left | 0.0009832847 | 0.000000e+00 | 2.062976e-36 | 1.127469e-09 | 1.345345e-07 | 3.090739e-14 |\n",
       "| Right | 0.0319337627 | 2.062976e-36 | 0.000000e+00 | 2.708416e-13 | 4.128055e-09 | 4.947235e-15 |\n",
       "| Bottom | 0.0071050689 | 1.127469e-09 | 2.708416e-13 | 0.000000e+00 | 4.510756e-02 | 6.855923e-23 |\n",
       "| Top | 0.3883617575 | 1.345345e-07 | 4.128055e-09 | 4.510756e-02 | 0.000000e+00 | 1.829117e-20 |\n",
       "\n"
      ],
      "text/plain": [
       "       Length       Left         Right        Bottom       Top         \n",
       "Status 0.0058220857 8.495681e-14 6.841592e-20 7.776887e-41 3.849019e-21\n",
       "Length 0.0000000000 9.832847e-04 3.193376e-02 7.105069e-03 3.883618e-01\n",
       "Left   0.0009832847 0.000000e+00 2.062976e-36 1.127469e-09 1.345345e-07\n",
       "Right  0.0319337627 2.062976e-36 0.000000e+00 2.708416e-13 4.128055e-09\n",
       "Bottom 0.0071050689 1.127469e-09 2.708416e-13 0.000000e+00 4.510756e-02\n",
       "Top    0.3883617575 1.345345e-07 4.128055e-09 4.510756e-02 0.000000e+00\n",
       "       Diagonal    \n",
       "Status 5.347603e-73\n",
       "Length 5.834537e-03\n",
       "Left   3.090739e-14\n",
       "Right  4.947235e-15\n",
       "Bottom 6.855923e-23\n",
       "Top    1.829117e-20"
      ]
     },
     "metadata": {},
     "output_type": "display_data"
    },
    {
     "data": {
      "image/png": "[encoded data removed]",
      "text/plain": [
       "plot without title"
      ]
     },
     "metadata": {
      "image/png": {
       "height": 360,
       "width": 480
      }
     },
     "output_type": "display_data"
    }
   ],
   "source": [
    "## Dataset02 - Task 6 code here\n",
    "# corr <- ... (The correlation matrix)\n",
    "# p_cor <- ..... (The plot)\n",
    "# your code here\n",
    "\n",
    "data(\"bank\")\n",
    "corr <- round(cor(bank), 1)\n",
    "head(corr[, 2:7])\n",
    "\n",
    "p.mat <- cor_pmat(bank)\n",
    "head(p.mat[, 2:7])\n",
    "p_cor<-ggcorrplot(corr)\n",
    "p_cor\n",
    "\n",
    "#fail() # No Answer - remove if you provide an answer"
   ]
  },
  {
   "cell_type": "code",
   "execution_count": 132,
   "metadata": {
    "deletable": false,
    "editable": false,
    "nbgrader": {
     "checksum": "66e22405e107e7f7ad7ac45c79455835",
     "grade": true,
     "grade_id": "cell-d7bdeb2a4dff46aa",
     "locked": true,
     "points": 2,
     "schema_version": 1,
     "solution": false
    }
   },
   "outputs": [
    {
     "name": "stdout",
     "output_type": "stream",
     "text": [
      "\u001b[32mTest passed\u001b[39m \n"
     ]
    }
   ],
   "source": [
    "# This is the first public test to check that you assigned the correct variable, the rest is hidden\n",
    "test_that(\"Scater Plot\", {\n",
    "      expect_is(p_cor,\"ggplot\")\n",
    "})\n"
   ]
  },
  {
   "cell_type": "code",
   "execution_count": null,
   "metadata": {
    "deletable": false,
    "editable": false,
    "nbgrader": {
     "checksum": "ba26a9563891444cb0e0201120a24544",
     "grade": true,
     "grade_id": "cell-01caec629e260cbc",
     "locked": true,
     "points": 0.1,
     "schema_version": 1,
     "solution": false
    }
   },
   "outputs": [],
   "source": []
  },
  {
   "cell_type": "code",
   "execution_count": null,
   "metadata": {},
   "outputs": [],
   "source": []
  },
  {
   "cell_type": "code",
   "execution_count": null,
   "metadata": {},
   "outputs": [],
   "source": []
  }
 ],
 "metadata": {
  "kernelspec": {
   "display_name": "R",
   "language": "R",
   "name": "ir"
  },
  "language_info": {
   "codemirror_mode": "r",
   "file_extension": ".r",
   "mimetype": "text/x-r-source",
   "name": "R",
   "pygments_lexer": "r",
   "version": "4.0.3"
  }
 },
 "nbformat": 4,
 "nbformat_minor": 2
}
